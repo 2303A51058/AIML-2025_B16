{
  "nbformat": 4,
  "nbformat_minor": 0,
  "metadata": {
    "colab": {
      "provenance": [],
      "authorship_tag": "ABX9TyOLEGQ0ZV0y8Hm3tfjo8TCv",
      "include_colab_link": true
    },
    "kernelspec": {
      "name": "python3",
      "display_name": "Python 3"
    },
    "language_info": {
      "name": "python"
    }
  },
  "cells": [
    {
      "cell_type": "markdown",
      "metadata": {
        "id": "view-in-github",
        "colab_type": "text"
      },
      "source": [
        "<a href=\"https://colab.research.google.com/github/2303A51058/AIML-2025_B16/blob/main/Untitled.ipynb\" target=\"_parent\"><img src=\"https://colab.research.google.com/assets/colab-badge.svg\" alt=\"Open In Colab\"/></a>"
      ]
    },
    {
      "cell_type": "code",
      "execution_count": null,
      "metadata": {
        "id": "pwZ9Jgg3op6U"
      },
      "outputs": [],
      "source": [
        "N1 = int(input())\n",
        "N2 = int(input())\n",
        "temp=N1\n",
        "N1=N2\n",
        "N2=temp\n",
        "print(N1,N2)"
      ]
    },
    {
      "cell_type": "code",
      "source": [],
      "metadata": {
        "id": "tbAfcCRFr06c"
      },
      "execution_count": null,
      "outputs": []
    }
  ]
}